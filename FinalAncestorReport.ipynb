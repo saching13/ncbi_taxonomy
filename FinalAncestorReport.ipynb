{
 "cells": [
  {
   "cell_type": "code",
   "execution_count": 9,
   "metadata": {},
   "outputs": [],
   "source": [
    "import numpy as np\n",
    "import pandas as pd\n",
    "from graph import Tree"
   ]
  },
  {
   "cell_type": "markdown",
   "metadata": {},
   "source": [
    "## Read the nodes.dmp file and ge tthe edges"
   ]
  },
  {
   "cell_type": "code",
   "execution_count": 10,
   "metadata": {},
   "outputs": [
    {
     "data": {
      "text/html": [
       "<div>\n",
       "<style scoped>\n",
       "    .dataframe tbody tr th:only-of-type {\n",
       "        vertical-align: middle;\n",
       "    }\n",
       "\n",
       "    .dataframe tbody tr th {\n",
       "        vertical-align: top;\n",
       "    }\n",
       "\n",
       "    .dataframe thead th {\n",
       "        text-align: right;\n",
       "    }\n",
       "</style>\n",
       "<table border=\"1\" class=\"dataframe\">\n",
       "  <thead>\n",
       "    <tr style=\"text-align: right;\">\n",
       "      <th></th>\n",
       "      <th>Tax id</th>\n",
       "      <th>Parent Tax id</th>\n",
       "      <th>rank</th>\n",
       "      <th>embl code</th>\n",
       "      <th>division id</th>\n",
       "      <th>inherited div flag</th>\n",
       "      <th>genetic code id</th>\n",
       "      <th>inherited GC  flag</th>\n",
       "      <th>mitochondrial genetic code id</th>\n",
       "      <th>inherited MGC flag</th>\n",
       "      <th>GenBank hidden flag</th>\n",
       "      <th>hidden subtree root flag</th>\n",
       "      <th>comments</th>\n",
       "    </tr>\n",
       "  </thead>\n",
       "  <tbody>\n",
       "    <tr>\n",
       "      <th>0</th>\n",
       "      <td>2</td>\n",
       "      <td>131567</td>\n",
       "      <td>superkingdom</td>\n",
       "      <td>NaN</td>\n",
       "      <td>0</td>\n",
       "      <td>0</td>\n",
       "      <td>11</td>\n",
       "      <td>0</td>\n",
       "      <td>0</td>\n",
       "      <td>0</td>\n",
       "      <td>0</td>\n",
       "      <td>0</td>\n",
       "      <td>\\t|</td>\n",
       "    </tr>\n",
       "    <tr>\n",
       "      <th>1</th>\n",
       "      <td>6</td>\n",
       "      <td>335928</td>\n",
       "      <td>genus</td>\n",
       "      <td>NaN</td>\n",
       "      <td>0</td>\n",
       "      <td>1</td>\n",
       "      <td>11</td>\n",
       "      <td>1</td>\n",
       "      <td>0</td>\n",
       "      <td>1</td>\n",
       "      <td>0</td>\n",
       "      <td>0</td>\n",
       "      <td>\\t|</td>\n",
       "    </tr>\n",
       "    <tr>\n",
       "      <th>2</th>\n",
       "      <td>7</td>\n",
       "      <td>6</td>\n",
       "      <td>species</td>\n",
       "      <td>AC</td>\n",
       "      <td>0</td>\n",
       "      <td>1</td>\n",
       "      <td>11</td>\n",
       "      <td>1</td>\n",
       "      <td>0</td>\n",
       "      <td>1</td>\n",
       "      <td>1</td>\n",
       "      <td>0</td>\n",
       "      <td>\\t|</td>\n",
       "    </tr>\n",
       "    <tr>\n",
       "      <th>3</th>\n",
       "      <td>9</td>\n",
       "      <td>32199</td>\n",
       "      <td>species</td>\n",
       "      <td>BA</td>\n",
       "      <td>0</td>\n",
       "      <td>1</td>\n",
       "      <td>11</td>\n",
       "      <td>1</td>\n",
       "      <td>0</td>\n",
       "      <td>1</td>\n",
       "      <td>1</td>\n",
       "      <td>0</td>\n",
       "      <td>\\t|</td>\n",
       "    </tr>\n",
       "    <tr>\n",
       "      <th>4</th>\n",
       "      <td>10</td>\n",
       "      <td>1706371</td>\n",
       "      <td>genus</td>\n",
       "      <td>NaN</td>\n",
       "      <td>0</td>\n",
       "      <td>1</td>\n",
       "      <td>11</td>\n",
       "      <td>1</td>\n",
       "      <td>0</td>\n",
       "      <td>1</td>\n",
       "      <td>0</td>\n",
       "      <td>0</td>\n",
       "      <td>\\t|</td>\n",
       "    </tr>\n",
       "  </tbody>\n",
       "</table>\n",
       "</div>"
      ],
      "text/plain": [
       "   Tax id  Parent Tax id          rank embl code  division id  \\\n",
       "0       2         131567  superkingdom       NaN            0   \n",
       "1       6         335928         genus       NaN            0   \n",
       "2       7              6       species        AC            0   \n",
       "3       9          32199       species        BA            0   \n",
       "4      10        1706371         genus       NaN            0   \n",
       "\n",
       "   inherited div flag  genetic code id  inherited GC  flag  \\\n",
       "0                   0               11                   0   \n",
       "1                   1               11                   1   \n",
       "2                   1               11                   1   \n",
       "3                   1               11                   1   \n",
       "4                   1               11                   1   \n",
       "\n",
       "   mitochondrial genetic code id  inherited MGC flag  GenBank hidden flag  \\\n",
       "0                              0                   0                    0   \n",
       "1                              0                   1                    0   \n",
       "2                              0                   1                    1   \n",
       "3                              0                   1                    1   \n",
       "4                              0                   1                    0   \n",
       "\n",
       "   hidden subtree root flag comments  \n",
       "0                         0      \\t|  \n",
       "1                         0      \\t|  \n",
       "2                         0      \\t|  \n",
       "3                         0      \\t|  \n",
       "4                         0      \\t|  "
      ]
     },
     "execution_count": 10,
     "metadata": {},
     "output_type": "execute_result"
    }
   ],
   "source": [
    "column_names = ['Tax id',\n",
    "                'Parent Tax id',\n",
    "                'rank',\n",
    "                'embl code', \n",
    "                'division id',\n",
    "                'inherited div flag',\n",
    "                'genetic code id',\n",
    "                'inherited GC  flag',\n",
    "                'mitochondrial genetic code id',\n",
    "                'inherited MGC flag',\n",
    "                'GenBank hidden flag',\n",
    "                'hidden subtree root flag',\n",
    "                'comments']\n",
    "nodes_df =  pd.read_table('nodes.dmp', delimiter = r\"\\t[|]\\t\", names= column_names, skiprows=1, engine='python')\n",
    "nodes_df.head(5)"
   ]
  },
  {
   "cell_type": "markdown",
   "metadata": {},
   "source": [
    "## Reading names.dmp into the dataframe"
   ]
  },
  {
   "cell_type": "code",
   "execution_count": 11,
   "metadata": {},
   "outputs": [
    {
     "data": {
      "text/html": [
       "<div>\n",
       "<style scoped>\n",
       "    .dataframe tbody tr th:only-of-type {\n",
       "        vertical-align: middle;\n",
       "    }\n",
       "\n",
       "    .dataframe tbody tr th {\n",
       "        vertical-align: top;\n",
       "    }\n",
       "\n",
       "    .dataframe thead th {\n",
       "        text-align: right;\n",
       "    }\n",
       "</style>\n",
       "<table border=\"1\" class=\"dataframe\">\n",
       "  <thead>\n",
       "    <tr style=\"text-align: right;\">\n",
       "      <th></th>\n",
       "      <th>Tax id</th>\n",
       "      <th>Name text</th>\n",
       "      <th>Unique name</th>\n",
       "      <th>name class</th>\n",
       "    </tr>\n",
       "  </thead>\n",
       "  <tbody>\n",
       "    <tr>\n",
       "      <th>0</th>\n",
       "      <td>1</td>\n",
       "      <td>root</td>\n",
       "      <td>NaN</td>\n",
       "      <td>scientific name</td>\n",
       "    </tr>\n",
       "    <tr>\n",
       "      <th>1</th>\n",
       "      <td>2</td>\n",
       "      <td>Bacteria</td>\n",
       "      <td>Bacteria &lt;bacteria&gt;</td>\n",
       "      <td>scientific name</td>\n",
       "    </tr>\n",
       "    <tr>\n",
       "      <th>2</th>\n",
       "      <td>2</td>\n",
       "      <td>Monera</td>\n",
       "      <td>Monera &lt;bacteria&gt;</td>\n",
       "      <td>in-part</td>\n",
       "    </tr>\n",
       "    <tr>\n",
       "      <th>3</th>\n",
       "      <td>2</td>\n",
       "      <td>Procaryotae</td>\n",
       "      <td>Procaryotae &lt;bacteria&gt;</td>\n",
       "      <td>in-part</td>\n",
       "    </tr>\n",
       "    <tr>\n",
       "      <th>4</th>\n",
       "      <td>2</td>\n",
       "      <td>Prokaryota</td>\n",
       "      <td>Prokaryota &lt;bacteria&gt;</td>\n",
       "      <td>in-part</td>\n",
       "    </tr>\n",
       "  </tbody>\n",
       "</table>\n",
       "</div>"
      ],
      "text/plain": [
       "   Tax id    Name text             Unique name       name class\n",
       "0       1         root                     NaN  scientific name\n",
       "1       2     Bacteria     Bacteria <bacteria>  scientific name\n",
       "2       2       Monera       Monera <bacteria>          in-part\n",
       "3       2  Procaryotae  Procaryotae <bacteria>          in-part\n",
       "4       2   Prokaryota   Prokaryota <bacteria>          in-part"
      ]
     },
     "execution_count": 11,
     "metadata": {},
     "output_type": "execute_result"
    }
   ],
   "source": [
    "column_names = ['Tax id',\n",
    "                'Name text',\n",
    "                'Unique name',\n",
    "                'name class']\n",
    "names_df = pd.read_table('names.dmp', delimiter = r\"\\t[|]\\t\", names=column_names, skiprows=1, engine='python')\n",
    "names_df['name class'] = names_df['name class'].str.split('\\t').str[0]\n",
    "names_df.head(5)"
   ]
  },
  {
   "cell_type": "markdown",
   "metadata": {},
   "source": [
    "## Creating weighted edges"
   ]
  },
  {
   "cell_type": "code",
   "execution_count": 12,
   "metadata": {},
   "outputs": [],
   "source": [
    "weighted_edges = dict(zip(nodes_df['Tax id'], zip(nodes_df['Parent Tax id'], nodes_df['rank'], nodes_df['embl code'])))"
   ]
  },
  {
   "cell_type": "markdown",
   "metadata": {},
   "source": [
    "## Building the tree\n",
    "\n",
    "Passing the names dataframe and weighted edges to the tree class"
   ]
  },
  {
   "cell_type": "code",
   "execution_count": 13,
   "metadata": {},
   "outputs": [],
   "source": [
    "newTree = Tree(weighted_edges,names_df, 'Tax id')"
   ]
  },
  {
   "cell_type": "markdown",
   "metadata": {},
   "source": [
    "### Calling the function to find the lowest ancestor of the given two nodes in the tree"
   ]
  },
  {
   "cell_type": "code",
   "execution_count": 14,
   "metadata": {},
   "outputs": [
    {
     "data": {
      "text/plain": [
       "10239"
      ]
     },
     "execution_count": 14,
     "metadata": {},
     "output_type": "execute_result"
    }
   ],
   "source": [
    "newTree.findLowestAncestor(10456,479727)"
   ]
  },
  {
   "cell_type": "markdown",
   "metadata": {},
   "source": [
    "### Returns the edge infromation from given node to parent node"
   ]
  },
  {
   "cell_type": "code",
   "execution_count": 15,
   "metadata": {},
   "outputs": [
    {
     "data": {
      "text/plain": [
       "(365521, 'species', 'AC')"
      ]
     },
     "execution_count": 15,
     "metadata": {},
     "output_type": "execute_result"
    }
   ],
   "source": [
    "newTree.edge_info(479727)"
   ]
  },
  {
   "cell_type": "markdown",
   "metadata": {},
   "source": [
    "### Returns the node infromation of the given node"
   ]
  },
  {
   "cell_type": "code",
   "execution_count": 16,
   "metadata": {},
   "outputs": [
    {
     "data": {
      "text/html": [
       "<div>\n",
       "<style scoped>\n",
       "    .dataframe tbody tr th:only-of-type {\n",
       "        vertical-align: middle;\n",
       "    }\n",
       "\n",
       "    .dataframe tbody tr th {\n",
       "        vertical-align: top;\n",
       "    }\n",
       "\n",
       "    .dataframe thead th {\n",
       "        text-align: right;\n",
       "    }\n",
       "</style>\n",
       "<table border=\"1\" class=\"dataframe\">\n",
       "  <thead>\n",
       "    <tr style=\"text-align: right;\">\n",
       "      <th></th>\n",
       "      <th>Tax id</th>\n",
       "      <th>Name text</th>\n",
       "      <th>Unique name</th>\n",
       "      <th>name class</th>\n",
       "    </tr>\n",
       "  </thead>\n",
       "  <tbody>\n",
       "    <tr>\n",
       "      <th>771554</th>\n",
       "      <td>479727</td>\n",
       "      <td>Amasya cherry disease-associated virus satelli...</td>\n",
       "      <td>NaN</td>\n",
       "      <td>scientific name</td>\n",
       "    </tr>\n",
       "  </tbody>\n",
       "</table>\n",
       "</div>"
      ],
      "text/plain": [
       "        Tax id                                          Name text Unique name  \\\n",
       "771554  479727  Amasya cherry disease-associated virus satelli...         NaN   \n",
       "\n",
       "             name class  \n",
       "771554  scientific name  "
      ]
     },
     "execution_count": 16,
     "metadata": {},
     "output_type": "execute_result"
    }
   ],
   "source": [
    "newTree.getNodeInfo(479727)"
   ]
  },
  {
   "cell_type": "code",
   "execution_count": null,
   "metadata": {},
   "outputs": [],
   "source": []
  },
  {
   "cell_type": "code",
   "execution_count": null,
   "metadata": {},
   "outputs": [],
   "source": []
  }
 ],
 "metadata": {
  "kernelspec": {
   "display_name": "Sachin Default",
   "language": "python",
   "name": "python3"
  },
  "language_info": {
   "codemirror_mode": {
    "name": "ipython",
    "version": 3
   },
   "file_extension": ".py",
   "mimetype": "text/x-python",
   "name": "python",
   "nbconvert_exporter": "python",
   "pygments_lexer": "ipython3",
   "version": "3.7.7"
  }
 },
 "nbformat": 4,
 "nbformat_minor": 4
}
